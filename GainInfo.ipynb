{
 "cells": [
  {
   "cell_type": "code",
   "execution_count": 1,
   "metadata": {},
   "outputs": [],
   "source": [
    "#the dataset will be without headers\n",
    "my_data=[['ensolarado','quente','alta','falso','nao'],\n",
    "['ensolarado','quente','alta','verdadeiro','nao'],\n",
    "['nublado','quente','alta','falso','sim'],\n",
    "['chuvoso','amena','alta','falso','sim'],\n",
    "['chuvoso','fria','normal','falso','sim'],\n",
    "['chuvoso','fria','normal','verdadeiro','nao'],\n",
    "['nublado','fria','normal','verdadeiro','sim'],\n",
    "['ensolarado','amena','alta','falso','nao'],\n",
    "['ensolarado','fria','normal','falso','sim'],\n",
    "['chuvoso','amena','normal','falso','sim'],\n",
    "['ensolarado','amena','normal','verdadeiro','sim'],\n",
    "['nublado','amena','alta','verdadeiro','sim'],\n",
    "['nublado','quente','normal','falso','sim'],\n",
    "['chuvoso','amena','alta','verdadeiro','nao']]\n",
    "    \n",
    "    \n",
    "    \n",
    "    \n",
    "# ['slashdot','USA','yes',18,'None'],\n",
    "# ['google','France','yes',23,'Premium'],\n",
    "# ['digg','USA','yes',24,'Basic'],\n",
    "# ['kiwitobes','France','yes',23,'Basic'],\n",
    "# ['google','UK','no',21,'Premium'],\n",
    "# ['(direct)','New Zealand','no',12,'None'],\n",
    "# ['(direct)','UK','no',21,'Basic'],\n",
    "# ['google','USA','no',24,'Premium'],\n",
    "# ['slashdot','France','yes',19,'None'],\n",
    "# ['digg','USA','no',18,'None'],\n",
    "# ['google','UK','no',18,'None'],\n",
    "# ['kiwitobes','UK','no',19,'None'],\n",
    "# ['digg','New Zealand','yes',12,'Basic'],\n",
    "# ['slashdot','UK','no',21,'None'],\n",
    "# ['google','UK','yes',18,'Basic'],\n",
    "# ['kiwitobes','France','yes',19,'Basic']]"
   ]
  },
  {
   "cell_type": "code",
   "execution_count": 2,
   "metadata": {},
   "outputs": [],
   "source": [
    "def divideset(data,column,value):\n",
    "    split_function=None # We splip the set for a value\n",
    "    if isinstance(value,int) or isinstance(value,float):\n",
    "        split_function=lambda row:row[column]==value \n",
    "    else:\n",
    "        split_function=lambda row:row[column]==value \n",
    "    set1=[row for row in data if split_function(row)]\n",
    "    set2=[row for row in data if not split_function(row)]\n",
    "    return (set1,set2)"
   ]
  },
  {
   "cell_type": "code",
   "execution_count": 3,
   "metadata": {},
   "outputs": [],
   "source": [
    "def uniquecounts(data):\n",
    "    results = {}\n",
    "    for row in data:\n",
    "        r = row[-1]#we will count the values for the column.\n",
    "        if r not in results:\n",
    "            results[r] = 0\n",
    "        results[r]+=1\n",
    "    return results"
   ]
  },
  {
   "cell_type": "code",
   "execution_count": 4,
   "metadata": {},
   "outputs": [],
   "source": [
    "def entropy(data):\n",
    "     from math import log\n",
    "     log2 = lambda x:log(x)/log(2) # Base change for LOG2.\n",
    "     results = uniquecounts(data) # We count the classes for a set.\n",
    "     ent = 0.0\n",
    "     for r in results.keys():\n",
    "         p = float(results[r])/len(data)\n",
    "         ent = ent - p*log2(p) # We calculate the Entrophy.\n",
    "     return ent"
   ]
  },
  {
   "cell_type": "code",
   "execution_count": 5,
   "metadata": {},
   "outputs": [],
   "source": [
    "def buildtree(data,scoref=entropy):\n",
    "#     if len(data) == 0:\n",
    "#         return decisionnode() #if the dataset is empty\n",
    "    current_score = scoref(data) #the entropy of the class\n",
    " \n",
    "    #In this values we will chose the best.\n",
    "    gain = 0.0\n",
    "    best_gain = 0.0\n",
    "    best_column = None\n",
    "       \n",
    "    column_count = len(data[0][:-1])#all the columns less the lastone, the class column\n",
    "    for col in range(0,column_count):\n",
    "        column_values={}\n",
    "        gain = 0.0\n",
    "        for row in data:\n",
    "            column_values[row[col]]=1 #count the values of each column\n",
    "        for value in column_values.keys(): #the values will be the keys\n",
    "            (set1,set2) = divideset(data,col,value) #split the column for the value to test the entropy\n",
    "            p = float(len(set1))/len(data) #p is the value respect the rest of the column.\n",
    "            gain = gain + p*scoref(set1) # acummulate of the entropy for each value in the column            \n",
    "        gain = current_score - gain #the total gain of the column\n",
    "        if gain >= best_gain and len(set1) != 0 and len(set2) != 0: #we chose the biggest gain.\n",
    "            best_gain=gain\n",
    "            best_column=(col)            \n",
    "    return best_gain, best_column"
   ]
  },
  {
   "cell_type": "code",
   "execution_count": 6,
   "metadata": {},
   "outputs": [
    {
     "name": "stdout",
     "output_type": "stream",
     "text": [
      "0.2467498197744391\n",
      "0\n"
     ]
    }
   ],
   "source": [
    "#this function receive the dataset and return the best column index and the Gain of the column\n",
    "best_gain, best_column = buildtree(my_data)\n",
    "print(best_gain)\n",
    "print(best_column)\n",
    "#print(best_sets[0])"
   ]
  },
  {
   "cell_type": "code",
   "execution_count": 6,
   "metadata": {},
   "outputs": [],
   "source": []
  }
 ],
 "metadata": {
  "kernelspec": {
   "display_name": "Python 3",
   "language": "python",
   "name": "python3"
  },
  "language_info": {
   "codemirror_mode": {
    "name": "ipython",
    "version": 3
   },
   "file_extension": ".py",
   "mimetype": "text/x-python",
   "name": "python",
   "nbconvert_exporter": "python",
   "pygments_lexer": "ipython3",
   "version": "3.8.5"
  }
 },
 "nbformat": 4,
 "nbformat_minor": 4
}
